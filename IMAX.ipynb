{
 "cells": [
  {
   "cell_type": "code",
   "execution_count": 1,
   "id": "23b845eb-aea5-41b9-afdc-581bb2598383",
   "metadata": {},
   "outputs": [],
   "source": [
    "import dolfinx\n",
    "import numpy as np\n",
    "import ufl\n",
    "from ufl import TestFunction, TrialFunction, dx, inner\n",
    "import gmsh\n",
    "\n",
    "from petsc4py import PETSc\n",
    "from mpi4py import MPI\n",
    "\n",
    "from dolfinx import fem, mesh, io, plot, default_scalar_type\n",
    "from dolfinx.io import gmshio\n",
    "from dolfinx.io.gmshio import model_to_mesh\n",
    "from dolfinx.fem import FunctionSpace, form, Function\n",
    "from dolfinx.fem.petsc import assemble_vector, assemble_matrix, create_vector, apply_lifting, set_bc, LinearProblem"
   ]
  },
  {
   "cell_type": "markdown",
   "id": "4e2f6bf4-4a64-48a0-90ca-307ba13232c1",
   "metadata": {},
   "source": [
    "## Creating and Meshing the Domain"
   ]
  },
  {
   "cell_type": "code",
   "execution_count": 2,
   "id": "78e9ebce-8d3f-4f89-aeb7-a6ee322ca758",
   "metadata": {},
   "outputs": [],
   "source": [
    "R1 = 0.5\n",
    "R2 = 1\n",
    "\n",
    "gmsh.initialize()\n",
    "\n",
    "gmsh.model.occ.addCircle(0, 0 ,0, r=R1, tag=1)\n",
    "gmsh.model.occ.addCircle(0, 0, 0, r=R2, tag=2)\n",
    "\n",
    "gmsh.model.occ.addCurveLoop([1], tag=1)\n",
    "gmsh.model.occ.addCurveLoop([2], tag=2)\n",
    "\n",
    "gmsh.model.occ.addPlaneSurface([2,1], tag=1)\n",
    "\n",
    "gmsh.model.occ.synchronize()"
   ]
  },
  {
   "cell_type": "code",
   "execution_count": 3,
   "id": "aa77f1c2-4ffb-4e61-913f-566772d235c7",
   "metadata": {},
   "outputs": [
    {
     "name": "stdout",
     "output_type": "stream",
     "text": [
      "Info    : Meshing 1D...\n",
      "Info    : [  0%] Meshing curve 1 (Circle)\n",
      "Info    : [ 60%] Meshing curve 2 (Circle)\n",
      "Info    : Done meshing 1D (Wall 0.000286639s, CPU 0.000547s)\n",
      "Info    : Meshing 2D...\n",
      "Info    : Meshing surface 1 (Plane, Frontal-Delaunay)\n",
      "Info    : Done meshing 2D (Wall 0.0228565s, CPU 0.02428s)\n",
      "Info    : 350 nodes 702 elements\n"
     ]
    }
   ],
   "source": [
    "gmsh.option.setNumber(\"Mesh.CharacteristicLengthMin\", 0.1)\n",
    "gmsh.option.setNumber(\"Mesh.CharacteristicLengthMax\", 0.1)\n",
    "\n",
    "gdim = 2\n",
    "gmsh.model.addPhysicalGroup(gdim, [1], tag=1)\n",
    "gmsh.model.mesh.generate(gdim)\n",
    "# gmsh.write(\"annulus.msh\")"
   ]
  },
  {
   "cell_type": "code",
   "execution_count": 4,
   "id": "751594ba-66a3-4678-b3c8-913a65d026b9",
   "metadata": {},
   "outputs": [],
   "source": [
    "model_rank = 0\n",
    "domain, cell_tags, facet_tags = model_to_mesh(gmsh.model, MPI.COMM_WORLD, model_rank)\n",
    "V_sc = fem.functionspace(domain, (\"Lagrange\", 1))\n",
    "V_vec = fem.functionspace(domain, (\"Lagrange\", 1, (domain.geometry.dim, )))"
   ]
  },
  {
   "cell_type": "markdown",
   "id": "1e8ff300-cf1e-4b6f-9bf1-bfa2ed1226fd",
   "metadata": {},
   "source": [
    "## Model setup"
   ]
  },
  {
   "cell_type": "code",
   "execution_count": 5,
   "id": "341b6530-15d2-4e6f-942c-6b6550d3d879",
   "metadata": {},
   "outputs": [],
   "source": [
    "# Define temporal parameters\n",
    "t = 0  # Start time\n",
    "T = 5  # Final time\n",
    "num_steps = 500\n",
    "dt = T / num_steps  # time step size"
   ]
  },
  {
   "cell_type": "code",
   "execution_count": 6,
   "id": "c92c5163-4500-43c1-be35-1c3371c4bd0c",
   "metadata": {
    "editable": true,
    "slideshow": {
     "slide_type": ""
    },
    "tags": []
   },
   "outputs": [],
   "source": [
    "# Create initial condition\n",
    "def initial_condition(x, a=0.4):\n",
    "    r = np.sqrt(x[0]**2 + x[1]**2) - R1 # distance to inner arc/implant\n",
    "    return 1 + 4*np.exp(-(a*r)**2)\n",
    "\n",
    "def initial_condition_collagen(x, a=0.5):\n",
    "    r = np.sqrt(x[0]**2 + x[1]**2) - R1 # distance to inner arc/implant\n",
    "    return 1 + 0*np.exp(-(a*r)**2)\n",
    "\n",
    "n_n = fem.Function(V_sc)\n",
    "n_n.name = \"Cells\"\n",
    "n_n.interpolate(initial_condition)\n",
    "\n",
    "p_n = fem.Function(V_sc)\n",
    "p_n.name = \"Collagen\"\n",
    "p_n.interpolate(initial_condition_collagen)\n",
    "\n",
    "u_n = fem.Function(V_vec)\n",
    "u_n.name = \"Deformation\"\n",
    "\n",
    "vel = fem.Function(V_vec)\n",
    "vel.name = \"Speed\""
   ]
  },
  {
   "cell_type": "code",
   "execution_count": 7,
   "id": "850712af-733d-48cc-a4fb-bc9d2fe3945d",
   "metadata": {},
   "outputs": [],
   "source": [
    "# Create boundary condition\n",
    "def inner_arc(x):\n",
    "    r = np.sqrt(x[0]**2 + x[1]**2)\n",
    "    return np.isclose(r,R1)\n",
    "\n",
    "def outer_arc(x):\n",
    "    r = np.sqrt(x[0]**2 + x[1]**2)\n",
    "    return np.isclose(r, R2)\n",
    "\n",
    "fdim = domain.topology.dim - 1\n",
    "inner_arc = mesh.locate_entities_boundary(domain, fdim, inner_arc)\n",
    "outer_arc = mesh.locate_entities_boundary(domain, fdim, outer_arc)\n",
    "boundary_facets = mesh.locate_entities_boundary(\n",
    "    domain, fdim, lambda x: np.full(x.shape[1], True, dtype=bool))\n",
    "\n",
    "u_D = np.array([0, 0, 0], dtype=default_scalar_type)\n",
    "bc_u = fem.dirichletbc(u_D, fem.locate_dofs_topological(V_vec, fdim, inner_arc), V_vec)\n",
    "\n",
    "bc_n = fem.dirichletbc(PETSc.ScalarType(1), fem.locate_dofs_topological(V_sc, fdim, outer_arc), V_sc)\n",
    "bc_p = fem.dirichletbc(PETSc.ScalarType(1), fem.locate_dofs_topological(V_sc, fdim, outer_arc), V_sc)"
   ]
  },
  {
   "cell_type": "markdown",
   "id": "cbdd2bbe-81cd-4375-9094-ded901bd9040",
   "metadata": {},
   "source": [
    "## Time Dependent Output"
   ]
  },
  {
   "cell_type": "code",
   "execution_count": 8,
   "id": "ab737b48-59ec-4d1d-b763-eeb66d9f11d6",
   "metadata": {},
   "outputs": [],
   "source": [
    "xdmf = io.XDMFFile(domain.comm, \"IMAX.xdmf\", \"w\")\n",
    "xdmf.write_mesh(domain)\n",
    "\n",
    "# Define solution variable, and interpolate initial solution for visualization in Paraview\n",
    "nh = fem.Function(V_sc)\n",
    "nh.name = \"Cells\"\n",
    "nh.interpolate(initial_condition)\n",
    "xdmf.write_function(nh, t)\n",
    "\n",
    "ph = fem.Function(V_sc)\n",
    "ph.name = \"Collagen\"\n",
    "ph.interpolate(initial_condition_collagen)\n",
    "xdmf.write_function(ph, t)\n",
    "\n",
    "# Function with all zero entries by default\n",
    "uh = fem.Function(V_vec)\n",
    "uh.name = \"Deformation\"\n",
    "# xdmf.write_function(uh, t)"
   ]
  },
  {
   "cell_type": "code",
   "execution_count": 9,
   "id": "d88d018a-0a6a-4d95-9e44-466bc0694157",
   "metadata": {},
   "outputs": [],
   "source": [
    "n, v_n = ufl.TrialFunction(V_sc), ufl.TestFunction(V_sc)\n",
    "p, v_p = ufl.TrialFunction(V_sc), ufl.TestFunction(V_sc)\n",
    "u, v_u = ufl.TrialFunction(V_vec), ufl.TestFunction(V_vec)\n",
    "\n",
    "T = fem.Constant(domain, default_scalar_type((0, 0, 0)))\n",
    "\n",
    "ds = ufl.Measure(\"ds\", domain=domain)"
   ]
  },
  {
   "cell_type": "code",
   "execution_count": 10,
   "id": "78d7e5d5-7de0-4b13-87a1-c17fdf045652",
   "metadata": {},
   "outputs": [],
   "source": [
    "E1 = 1.25\n",
    "E2 = 1\n",
    "mu1 = 1\n",
    "mu2 = 1\n",
    "x = ufl.SpatialCoordinate(domain)\n",
    "\n",
    "def epsilon(u):\n",
    "    return ufl.sym(ufl.grad(u))  # Equivalent to 0.5*(ufl.nabla_grad(u) + ufl.nabla_grad(u).T)\n",
    "\n",
    "def sigma_e(u):\n",
    "    return E1 * epsilon(u)*  + ufl.nabla_div(u) * ufl.Identity(len(u)) \n",
    "\n",
    "def sigma_v(vel):\n",
    "    return mu1 * epsilon(vel) + mu2 * ufl.nabla_div(vel) * ufl.Identity(len(vel))"
   ]
  },
  {
   "cell_type": "code",
   "execution_count": null,
   "id": "dcd22b21-c7c9-49bb-8f59-8e4b515a7b82",
   "metadata": {
    "editable": true,
    "slideshow": {
     "slide_type": ""
    },
    "tags": []
   },
   "outputs": [
    {
     "name": "stdout",
     "output_type": "stream",
     "text": [
      "(5+0j)\n",
      "(2.526529928182899+0j)\n",
      "(1.49245848285668+0j)\n"
     ]
    }
   ],
   "source": [
    "for i in range(num_steps):\n",
    "    t += dt\n",
    "    if i%10 == 0:\n",
    "        print(nh.x.array[100])\n",
    "\n",
    "    # 1. Update traction force and stress, solve reaction-diffusion problem\n",
    "    tau = 1\n",
    "    a = 4\n",
    "    k2 = 5\n",
    "    N0 = 2\n",
    "    hill_n = nh**k2/(N0**k2+nh**k2)\n",
    "    # traction = tau*nh*ph*ufl.Identity(len(x))\n",
    "    traction = tau*hill_n*ph*ufl.Identity(len(x))\n",
    "\n",
    "    k1 = 5\n",
    "    sig = sigma_e(uh) + sigma_v(vel/dt) + traction\n",
    "    trsig = ufl.tr(sig)\n",
    "    lin_sig = a*trsig\n",
    "    hill_sig = a*ufl.real((trsig**k1)/(1+trsig**k1)) # complex numbers arises here\n",
    "    \n",
    "    a_n = (1 + 1/dt) * ufl.inner(n, v_n) * ufl.dx + ufl.inner(ufl.grad(n), ufl.grad(v_n)) * ufl.dx\n",
    "    L_n = ufl.inner((n_n/dt), v_n) * ufl.dx + ufl.inner((1 + hill_sig), v_n) * ufl.dx\n",
    "\n",
    "    linear_form = fem.form(L_n)\n",
    "    bilinear_form = fem.form(a_n)\n",
    "    A = assemble_matrix(bilinear_form, bcs=[bc_n])\n",
    "    A.assemble()\n",
    "    b = create_vector(linear_form)\n",
    "\n",
    "    solver = PETSc.KSP().create(domain.comm)\n",
    "    solver.setOperators(A)\n",
    "    solver.setType(PETSc.KSP.Type.PREONLY)\n",
    "    solver.getPC().setType(PETSc.PC.Type.LU)\n",
    "\n",
    "    # Update the right hand side reusing the initial vector\n",
    "    with b.localForm() as loc_b:\n",
    "        loc_b.set(0)\n",
    "    assemble_vector(b, linear_form)\n",
    "\n",
    "    # Apply Dirichlet boundary condition to the vector\n",
    "    apply_lifting(b, [bilinear_form], [[bc_n]])\n",
    "    b.ghostUpdate(addv=PETSc.InsertMode.ADD_VALUES, mode=PETSc.ScatterMode.REVERSE)\n",
    "    set_bc(b, [bc_n])\n",
    "\n",
    "    # Solve linear problem\n",
    "    solver.solve(b, nh.x.petsc_vec)\n",
    "    nh.x.scatter_forward()\n",
    "\n",
    "    # 2. Solve collagen problem \n",
    "    d2 = 1\n",
    "    f_p = nh \n",
    "    a_p = (d2 + 1/dt) * ufl.inner(p, v_p) * ufl.dx \n",
    "    L_p = ufl.inner((p_n/dt + f_p), v_p) * ufl.dx\n",
    "\n",
    "    bilinear_form = fem.form(a_p)\n",
    "    linear_form = fem.form(L_n)\n",
    "    A = assemble_matrix(bilinear_form, bcs=[bc_p])\n",
    "    A.assemble()\n",
    "    b = create_vector(linear_form)\n",
    "\n",
    "    # Update the right hand side reusing the initial vector\n",
    "    with b.localForm() as loc_b:\n",
    "        loc_b.set(0)\n",
    "    assemble_vector(b, linear_form)\n",
    "\n",
    "    # Apply Dirichlet boundary condition to the vector\n",
    "    apply_lifting(b, [bilinear_form], [[bc_p]])\n",
    "    b.ghostUpdate(addv=PETSc.InsertMode.ADD_VALUES, mode=PETSc.ScatterMode.REVERSE)\n",
    "    set_bc(b, [bc_p])\n",
    "\n",
    "    # Solve linear problem\n",
    "    solver.solve(b, ph.x.petsc_vec)\n",
    "    ph.x.scatter_forward()\n",
    "\n",
    "    # 3. Solve mechanical problem\n",
    "    f_u = ufl.nabla_div(traction)\n",
    "    function1 = (E1 + mu1/dt) * epsilon(u) + (E2 + mu2/dt) * ufl.nabla_div(u) * ufl.Identity(len(u)) \n",
    "    function2 = (mu1/dt) * epsilon(u_n) + (mu2/dt) * ufl.nabla_div(u_n) * ufl.Identity(len(u_n))\n",
    "    \n",
    "    a_u = ufl.inner(function1, epsilon(v_u)) * ufl.dx\n",
    "    L_u = ufl.inner(function2, epsilon(v_u)) * ufl.dx + ufl.inner(f_u, v_u) * ufl.dx + ufl.inner(T, v_u) * ds\n",
    "    problem = LinearProblem(a_u, L_u, bcs=[bc_u], petsc_options={\"ksp_type\": \"preonly\", \"pc_type\": \"lu\"})\n",
    "    uh = problem.solve()\n",
    "\n",
    "    # 4. Compute velocity at each grid point and update mesh\n",
    "    ## Not sure if function spaces should be updated here??\n",
    "    vel.x.array[:] = uh.x.array - u_n.x.array\n",
    "    deformation_array = vel.x.array.reshape((-1, domain.geometry.dim))\n",
    "    domain.geometry.x[:, :domain.geometry.dim] += deformation_array.astype(float)\n",
    "\n",
    "    # Update solution at previous time step \n",
    "    u_n.x.array[:] = uh.x.array\n",
    "    n_n.x.array[:] = nh.x.array\n",
    "    p_n.x.array[:] = ph.x.array\n",
    "\n",
    "    # Write solution to file\n",
    "    nh.name = \"Cells\"\n",
    "    ph.name = \"Collagen\"\n",
    "    uh.name = \"Deformation\"\n",
    "    xdmf.write_function(nh, t)\n",
    "    xdmf.write_function(ph, t)\n",
    "    xdmf.write_function(uh, t)\n",
    "    \n",
    "xdmf.close()"
   ]
  }
 ],
 "metadata": {
  "kernelspec": {
   "display_name": "Python 3 (DOLFINx complex)",
   "language": "python",
   "name": "python3-complex"
  },
  "language_info": {
   "codemirror_mode": {
    "name": "ipython",
    "version": 3
   },
   "file_extension": ".py",
   "mimetype": "text/x-python",
   "name": "python",
   "nbconvert_exporter": "python",
   "pygments_lexer": "ipython3",
   "version": "3.12.3"
  }
 },
 "nbformat": 4,
 "nbformat_minor": 5
}
