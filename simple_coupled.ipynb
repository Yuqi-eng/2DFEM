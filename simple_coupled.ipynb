{
 "cells": [
  {
   "cell_type": "code",
   "execution_count": 1,
   "id": "b303d30a-fbd5-4d8e-835f-18a172dc69ef",
   "metadata": {},
   "outputs": [],
   "source": [
    "import dolfinx\n",
    "import numpy as np\n",
    "import ufl\n",
    "import gmsh\n",
    "\n",
    "from petsc4py import PETSc\n",
    "from mpi4py import MPI\n",
    "\n",
    "from dolfinx import fem, mesh, io, plot, default_scalar_type\n",
    "from dolfinx.io import gmshio\n",
    "from dolfinx.io.gmshio import model_to_mesh\n",
    "from dolfinx.fem.petsc import assemble_vector, assemble_matrix, create_vector, apply_lifting, set_bc, LinearProblem"
   ]
  },
  {
   "cell_type": "markdown",
   "id": "9be80f75-9e5c-471b-9969-98a9941ee143",
   "metadata": {},
   "source": [
    "## Creating and Meshing the Domain"
   ]
  },
  {
   "cell_type": "code",
   "execution_count": 2,
   "id": "42a22beb-0a77-4879-8cab-231d549eb346",
   "metadata": {},
   "outputs": [],
   "source": [
    "### Code for half annulus\n",
    "# R1 = 0.5\n",
    "# R2 = 1\n",
    "\n",
    "# gmsh.initialize()\n",
    "\n",
    "# gmsh.model.occ.addPoint(0, R1, 0, 0.05, tag=1)\n",
    "# gmsh.model.occ.addPoint(R1, 0, 0, 0.05, tag=2)\n",
    "# gmsh.model.occ.addPoint(0, -R1, 0, 0.05, tag=3)\n",
    "# gmsh.model.occ.addPoint(0, R2, 0, 0.05, tag=4)\n",
    "# gmsh.model.occ.addPoint(R2, 0, 0, 0.05, tag=5)\n",
    "# gmsh.model.occ.addPoint(0, -R2, 0, 0.05, tag=6)\n",
    "\n",
    "# gmsh.model.occ.addLine(1, 4, tag=1)\n",
    "# gmsh.model.occ.addLine(6, 3, tag=3)\n",
    "\n",
    "# gmsh.model.occ.addCircleArc(4, 5, 6, tag=2, center=False)\n",
    "# gmsh.model.occ.addCircleArc(3, 2, 1, tag=4, center=False)\n",
    "\n",
    "# gmsh.model.occ.addCurveLoop([1, 2, 3, 4], tag=1)\n",
    "\n",
    "# gmsh.model.occ.addPlaneSurface([1], tag=1)\n",
    "\n",
    "# gmsh.model.occ.synchronize()"
   ]
  },
  {
   "cell_type": "code",
   "execution_count": 3,
   "id": "24e45151-cf2a-47dd-9e2b-f35bccfbd574",
   "metadata": {},
   "outputs": [],
   "source": [
    "R1 = 0.5\n",
    "R2 = 1\n",
    "\n",
    "gmsh.initialize()\n",
    "\n",
    "gmsh.model.occ.addCircle(0, 0 ,0, r=R1, tag=1)\n",
    "gmsh.model.occ.addCircle(0, 0, 0, r=R2, tag=2)\n",
    "\n",
    "gmsh.model.occ.addCurveLoop([1], tag=1)\n",
    "gmsh.model.occ.addCurveLoop([2], tag=2)\n",
    "\n",
    "gmsh.model.occ.addPlaneSurface([2,1], tag=1)\n",
    "\n",
    "gmsh.model.occ.synchronize()"
   ]
  },
  {
   "cell_type": "code",
   "execution_count": 4,
   "id": "52ce898c-4fdd-494e-9979-53546031c88a",
   "metadata": {},
   "outputs": [
    {
     "name": "stdout",
     "output_type": "stream",
     "text": [
      "Info    : Meshing 1D...\n",
      "Info    : [  0%] Meshing curve 1 (Circle)\n",
      "Info    : [ 60%] Meshing curve 2 (Circle)\n",
      "Info    : Done meshing 1D (Wall 0.000288177s, CPU 0.000588s)\n",
      "Info    : Meshing 2D...\n",
      "Info    : Meshing surface 1 (Plane, Frontal-Delaunay)\n",
      "Info    : Done meshing 2D (Wall 0.0608954s, CPU 0.061619s)\n",
      "Info    : 1248 nodes 2497 elements\n",
      "Info    : Writing 'annulus.msh'...\n",
      "Info    : Done writing 'annulus.msh'\n"
     ]
    }
   ],
   "source": [
    "gmsh.option.setNumber(\"Mesh.CharacteristicLengthMin\", 0.05)\n",
    "gmsh.option.setNumber(\"Mesh.CharacteristicLengthMax\", 0.05)\n",
    "\n",
    "gdim = 2\n",
    "gmsh.model.addPhysicalGroup(gdim, [1], tag=1)\n",
    "gmsh.model.mesh.generate(gdim)\n",
    "gmsh.write(\"annulus.msh\")"
   ]
  },
  {
   "cell_type": "code",
   "execution_count": 5,
   "id": "1e98492e-1a32-41c6-8cff-dcddd2005dfc",
   "metadata": {},
   "outputs": [],
   "source": [
    "model_rank = 0\n",
    "domain, cell_tags, facet_tags = model_to_mesh(gmsh.model, MPI.COMM_WORLD, model_rank)\n",
    "V_sc = fem.functionspace(domain, (\"Lagrange\", 1))\n",
    "V_vec = fem.functionspace(domain, (\"Lagrange\", 1, (domain.geometry.dim, )))"
   ]
  },
  {
   "cell_type": "markdown",
   "id": "cc215cce-17ac-4ceb-9a26-deef68758f93",
   "metadata": {},
   "source": [
    "## Model setup"
   ]
  },
  {
   "cell_type": "code",
   "execution_count": 6,
   "id": "9ea21682-72ac-4e40-ae71-38f31ff939c4",
   "metadata": {},
   "outputs": [],
   "source": [
    "# Define temporal parameters\n",
    "t = 0  # Start time\n",
    "T = 2  # Final time\n",
    "num_steps = 1000\n",
    "dt = T / num_steps  # time step size"
   ]
  },
  {
   "cell_type": "code",
   "execution_count": 7,
   "id": "1a02f3b8-8809-4a63-9b00-f68b6853fbc6",
   "metadata": {},
   "outputs": [],
   "source": [
    "# Create initial condition\n",
    "def initial_condition(x, a=0.1):\n",
    "    r = np.sqrt(x[0]**2 + x[1]**2) - R1\n",
    "    return 1 + 0.1*np.exp(-a * (r**2))\n",
    "\n",
    "n_n = fem.Function(V_sc)\n",
    "n_n.name = \"Cells\"\n",
    "n_n.interpolate(initial_condition)\n",
    "\n",
    "p_n = fem.Function(V_sc)\n",
    "p_n.name = \"Collagen\"\n",
    "p_n.interpolate(initial_condition)\n",
    "\n",
    "u_n = fem.Function(V_vec)\n",
    "u_n.name = \"Deformation\"\n",
    "\n",
    "vel_n = fem.Function(V_vec)\n",
    "vel_n.name = \"Velocity\""
   ]
  },
  {
   "cell_type": "code",
   "execution_count": 8,
   "id": "e6805006-5cf3-46a6-8a14-9aaef4582d89",
   "metadata": {},
   "outputs": [],
   "source": [
    "# Create boundary condition\n",
    "def inner_boundary(x):\n",
    "    r = np.sqrt(x[0]**2 + x[1]**2)\n",
    "    inner_arc = np.isclose(r,R1)\n",
    "    inner_lines = np.isclose(x[0],0)\n",
    "    return np.logical_or(inner_arc, inner_lines)\n",
    "\n",
    "def inner_lines(x):\n",
    "    return np.isclose(x[0],0)\n",
    "\n",
    "def outer_arc(x):\n",
    "    r = np.sqrt(x[0]**2 + x[1]**2)\n",
    "    return np.isclose(r, R2)\n",
    "\n",
    "fdim = domain.topology.dim - 1\n",
    "inner_boundary_facets = mesh.locate_entities_boundary(domain, fdim, inner_boundary)\n",
    "inner_lines = mesh.locate_entities_boundary(domain, fdim, inner_lines)\n",
    "outer_arc = mesh.locate_entities_boundary(domain, fdim, outer_arc)\n",
    "boundary_facets = mesh.locate_entities_boundary(\n",
    "    domain, fdim, lambda x: np.full(x.shape[1], True, dtype=bool))\n",
    "\n",
    "u_D = np.array([0, 0, 0], dtype=default_scalar_type)\n",
    "bc_u = fem.dirichletbc(u_D, fem.locate_dofs_topological(V_vec, fdim, inner_lines), V_vec)\n",
    "\n",
    "bc_n = fem.dirichletbc(PETSc.ScalarType(1), fem.locate_dofs_topological(V_sc, fdim, outer_arc), V_sc)\n",
    "\n",
    "bc_p = fem.dirichletbc(PETSc.ScalarType(1), fem.locate_dofs_topological(V_sc, fdim, outer_arc), V_sc)"
   ]
  },
  {
   "cell_type": "markdown",
   "id": "a45ff29d-f89f-4e66-b5b8-f68224f73ee7",
   "metadata": {},
   "source": [
    "## Time Dependent Output"
   ]
  },
  {
   "cell_type": "code",
   "execution_count": 9,
   "id": "f93257be-c128-4e97-9547-2e425d7a3c45",
   "metadata": {},
   "outputs": [],
   "source": [
    "xdmf = io.XDMFFile(domain.comm, \"coupled.xdmf\", \"w\")\n",
    "xdmf.write_mesh(domain)\n",
    "\n",
    "# Define solution variable, and interpolate initial solution for visualization in Paraview\n",
    "nh = fem.Function(V_sc)\n",
    "nh.name = \"Cells\"\n",
    "nh.interpolate(initial_condition)\n",
    "xdmf.write_function(nh, t)\n",
    "\n",
    "ph = fem.Function(V_sc)\n",
    "ph.name = \"Collagen\"\n",
    "ph.interpolate(initial_condition)\n",
    "xdmf.write_function(ph, t)\n",
    "\n",
    "# Function with all zero entries by default\n",
    "uh = fem.Function(V_vec)\n",
    "uh.name = \"Deformation\"\n",
    "# xdmf.write_function(uh, t)"
   ]
  },
  {
   "cell_type": "code",
   "execution_count": 10,
   "id": "5cac7970-a1af-4501-a0e4-c71c4ef8ab4b",
   "metadata": {},
   "outputs": [],
   "source": [
    "n, v_n = ufl.TrialFunction(V_sc), ufl.TestFunction(V_sc)\n",
    "p, v_p = ufl.TrialFunction(V_sc), ufl.TestFunction(V_sc)\n",
    "u, v_u = ufl.TrialFunction(V_vec), ufl.TestFunction(V_vec)"
   ]
  },
  {
   "cell_type": "code",
   "execution_count": 11,
   "id": "1bcfed76-6398-4647-b016-6256a39c066a",
   "metadata": {},
   "outputs": [],
   "source": [
    "T = fem.Constant(domain, default_scalar_type((0, 0, 0)))"
   ]
  },
  {
   "cell_type": "code",
   "execution_count": 12,
   "id": "ae95759c-8e69-4dd0-8560-fb76ad12c2b5",
   "metadata": {},
   "outputs": [],
   "source": [
    "ds = ufl.Measure(\"ds\", domain=domain)"
   ]
  },
  {
   "cell_type": "code",
   "execution_count": 13,
   "id": "d70401d5-74aa-4cd5-9dfd-81e5ec252636",
   "metadata": {},
   "outputs": [],
   "source": [
    "nabla = 1.25\n",
    "mu = 1\n",
    "mu_1 = 1\n",
    "mu_2 = 1\n",
    "x = ufl.SpatialCoordinate(domain)\n",
    "\n",
    "def epsilon(u):\n",
    "    return ufl.sym(ufl.grad(u))  # Equivalent to 0.5*(ufl.nabla_grad(u) + ufl.nabla_grad(u).T)\n",
    "\n",
    "def sigma(u):\n",
    "    return nabla * ufl.nabla_div(u) * ufl.Identity(len(u)) + 2 * mu * epsilon(u)\n",
    "\n",
    "def sigma_v(vel):\n",
    "    return mu_1 * epsilon(vel) + mu_2 * ufl.nabla_div(vel) * ufl.Identity(len(vel))"
   ]
  },
  {
   "cell_type": "code",
   "execution_count": 14,
   "id": "326a23f3-3064-474e-8f99-93f9a36d6cce",
   "metadata": {},
   "outputs": [
    {
     "name": "stdout",
     "output_type": "stream",
     "text": [
      "0 (nan+nanj)\n",
      "1 (nan+nanj)\n",
      "2 (nan+nanj)\n",
      "3 (nan+nanj)\n",
      "4 (nan+nanj)\n",
      "5 (nan+nanj)\n",
      "6 (nan+nanj)\n",
      "7 (nan+nanj)\n",
      "8 (nan+nanj)\n",
      "9 (nan+nanj)\n",
      "10 (nan+nanj)\n",
      "11 (nan+nanj)\n"
     ]
    },
    {
     "ename": "KeyboardInterrupt",
     "evalue": "",
     "output_type": "error",
     "traceback": [
      "\u001b[0;31m---------------------------------------------------------------------------\u001b[0m",
      "\u001b[0;31mKeyboardInterrupt\u001b[0m                         Traceback (most recent call last)",
      "Cell \u001b[0;32mIn[14], line 78\u001b[0m\n\u001b[1;32m     76\u001b[0m L_u \u001b[38;5;241m=\u001b[39m ufl\u001b[38;5;241m.\u001b[39minner(f_u, v_u) \u001b[38;5;241m*\u001b[39m ufl\u001b[38;5;241m.\u001b[39mdx \u001b[38;5;241m+\u001b[39m ufl\u001b[38;5;241m.\u001b[39minner(T, v_u) \u001b[38;5;241m*\u001b[39m ds \u001b[38;5;241m-\u001b[39m ufl\u001b[38;5;241m.\u001b[39minner(sigma_v(vel_n), epsilon(v_u)) \u001b[38;5;241m*\u001b[39m ufl\u001b[38;5;241m.\u001b[39mdx\n\u001b[1;32m     77\u001b[0m problem \u001b[38;5;241m=\u001b[39m LinearProblem(a_u, L_u, bcs\u001b[38;5;241m=\u001b[39m[bc_u], petsc_options\u001b[38;5;241m=\u001b[39m{\u001b[38;5;124m\"\u001b[39m\u001b[38;5;124mksp_type\u001b[39m\u001b[38;5;124m\"\u001b[39m: \u001b[38;5;124m\"\u001b[39m\u001b[38;5;124mpreonly\u001b[39m\u001b[38;5;124m\"\u001b[39m, \u001b[38;5;124m\"\u001b[39m\u001b[38;5;124mpc_type\u001b[39m\u001b[38;5;124m\"\u001b[39m: \u001b[38;5;124m\"\u001b[39m\u001b[38;5;124mlu\u001b[39m\u001b[38;5;124m\"\u001b[39m})\n\u001b[0;32m---> 78\u001b[0m uh \u001b[38;5;241m=\u001b[39m \u001b[43mproblem\u001b[49m\u001b[38;5;241;43m.\u001b[39;49m\u001b[43msolve\u001b[49m\u001b[43m(\u001b[49m\u001b[43m)\u001b[49m\n\u001b[1;32m     80\u001b[0m \u001b[38;5;66;03m# Compute velocity\u001b[39;00m\n\u001b[1;32m     81\u001b[0m \u001b[38;5;28;01mif\u001b[39;00m i \u001b[38;5;241m%\u001b[39m \u001b[38;5;241m10\u001b[39m \u001b[38;5;241m==\u001b[39m \u001b[38;5;241m0\u001b[39m \u001b[38;5;129;01mand\u001b[39;00m i \u001b[38;5;241m!=\u001b[39m \u001b[38;5;241m0\u001b[39m:\n",
      "File \u001b[0;32m/usr/local/dolfinx-complex/lib/python3.12/dist-packages/dolfinx/fem/petsc.py:841\u001b[0m, in \u001b[0;36mLinearProblem.solve\u001b[0;34m(self)\u001b[0m\n\u001b[1;32m    839\u001b[0m \u001b[38;5;66;03m# Assemble lhs\u001b[39;00m\n\u001b[1;32m    840\u001b[0m \u001b[38;5;28mself\u001b[39m\u001b[38;5;241m.\u001b[39m_A\u001b[38;5;241m.\u001b[39mzeroEntries()\n\u001b[0;32m--> 841\u001b[0m \u001b[43massemble_matrix_mat\u001b[49m\u001b[43m(\u001b[49m\u001b[38;5;28;43mself\u001b[39;49m\u001b[38;5;241;43m.\u001b[39;49m\u001b[43m_A\u001b[49m\u001b[43m,\u001b[49m\u001b[43m \u001b[49m\u001b[38;5;28;43mself\u001b[39;49m\u001b[38;5;241;43m.\u001b[39;49m\u001b[43m_a\u001b[49m\u001b[43m,\u001b[49m\u001b[43m \u001b[49m\u001b[43mbcs\u001b[49m\u001b[38;5;241;43m=\u001b[39;49m\u001b[38;5;28;43mself\u001b[39;49m\u001b[38;5;241;43m.\u001b[39;49m\u001b[43mbcs\u001b[49m\u001b[43m)\u001b[49m\n\u001b[1;32m    842\u001b[0m \u001b[38;5;28mself\u001b[39m\u001b[38;5;241m.\u001b[39m_A\u001b[38;5;241m.\u001b[39massemble()\n\u001b[1;32m    844\u001b[0m \u001b[38;5;66;03m# Assemble rhs\u001b[39;00m\n",
      "File \u001b[0;32m/usr/local/dolfinx-complex/lib/python3.12/dist-packages/dolfinx/fem/petsc.py:466\u001b[0m, in \u001b[0;36massemble_matrix_mat\u001b[0;34m(A, a, bcs, diagonal, constants, coeffs)\u001b[0m\n\u001b[1;32m    464\u001b[0m coeffs \u001b[38;5;241m=\u001b[39m _pack_coefficients(a\u001b[38;5;241m.\u001b[39m_cpp_object) \u001b[38;5;28;01mif\u001b[39;00m coeffs \u001b[38;5;129;01mis\u001b[39;00m \u001b[38;5;28;01mNone\u001b[39;00m \u001b[38;5;28;01melse\u001b[39;00m coeffs\n\u001b[1;32m    465\u001b[0m _bcs \u001b[38;5;241m=\u001b[39m [bc\u001b[38;5;241m.\u001b[39m_cpp_object \u001b[38;5;28;01mfor\u001b[39;00m bc \u001b[38;5;129;01min\u001b[39;00m bcs]\n\u001b[0;32m--> 466\u001b[0m \u001b[43m_cpp\u001b[49m\u001b[38;5;241;43m.\u001b[39;49m\u001b[43mfem\u001b[49m\u001b[38;5;241;43m.\u001b[39;49m\u001b[43mpetsc\u001b[49m\u001b[38;5;241;43m.\u001b[39;49m\u001b[43massemble_matrix\u001b[49m\u001b[43m(\u001b[49m\u001b[43mA\u001b[49m\u001b[43m,\u001b[49m\u001b[43m \u001b[49m\u001b[43ma\u001b[49m\u001b[38;5;241;43m.\u001b[39;49m\u001b[43m_cpp_object\u001b[49m\u001b[43m,\u001b[49m\u001b[43m \u001b[49m\u001b[43mconstants\u001b[49m\u001b[43m,\u001b[49m\u001b[43m \u001b[49m\u001b[43mcoeffs\u001b[49m\u001b[43m,\u001b[49m\u001b[43m \u001b[49m\u001b[43m_bcs\u001b[49m\u001b[43m)\u001b[49m\n\u001b[1;32m    467\u001b[0m \u001b[38;5;28;01mif\u001b[39;00m a\u001b[38;5;241m.\u001b[39mfunction_spaces[\u001b[38;5;241m0\u001b[39m] \u001b[38;5;129;01mis\u001b[39;00m a\u001b[38;5;241m.\u001b[39mfunction_spaces[\u001b[38;5;241m1\u001b[39m]:\n\u001b[1;32m    468\u001b[0m     A\u001b[38;5;241m.\u001b[39massemblyBegin(PETSc\u001b[38;5;241m.\u001b[39mMat\u001b[38;5;241m.\u001b[39mAssemblyType\u001b[38;5;241m.\u001b[39mFLUSH)\n",
      "\u001b[0;31mKeyboardInterrupt\u001b[0m: "
     ]
    }
   ],
   "source": [
    "vel_init = vel_n\n",
    "\n",
    "for i in range(num_steps):\n",
    "    t += dt\n",
    "\n",
    "    tau = 0.3\n",
    "    f_n = fem.Constant(domain, PETSc.ScalarType(1)) \n",
    "    sig = sigma(uh) + sigma_v(vel_n) + tau*nh*ph*ufl.Identity(len(x))\n",
    "    f_sig = ufl.tr(sig)\n",
    "    \n",
    "    a_n = ((1 + dt) * ufl.inner(n, v_n) * ufl.dx +\n",
    "    dt * ufl.inner(ufl.grad(n), ufl.grad(v_n)) * ufl.dx +\n",
    "    dt * ufl.inner(ufl.div(n * vel_n), v_n) * ufl.dx)\n",
    "    L_n = ufl.inner((n_n + dt * f_n), v_n) * ufl.dx + ufl.inner(dt * f_sig, v_n) * ufl.dx\n",
    "\n",
    "    bilinear_form = fem.form(a_n)\n",
    "    linear_form = fem.form(L_n)\n",
    "    A = assemble_matrix(bilinear_form, bcs=[bc_n])\n",
    "    A.assemble()\n",
    "    b = create_vector(linear_form)\n",
    "\n",
    "    solver = PETSc.KSP().create(domain.comm)\n",
    "    solver.setOperators(A)\n",
    "    solver.setType(PETSc.KSP.Type.PREONLY)\n",
    "    solver.getPC().setType(PETSc.PC.Type.LU)\n",
    "\n",
    "    # Update the right hand side reusing the initial vector\n",
    "    with b.localForm() as loc_b:\n",
    "        loc_b.set(0)\n",
    "    assemble_vector(b, linear_form)\n",
    "\n",
    "    # Apply Dirichlet boundary condition to the vector\n",
    "    apply_lifting(b, [bilinear_form], [[bc_n]])\n",
    "    b.ghostUpdate(addv=PETSc.InsertMode.ADD_VALUES, mode=PETSc.ScatterMode.REVERSE)\n",
    "    set_bc(b, [bc_n])\n",
    "\n",
    "    # Solve linear problem\n",
    "    solver.solve(b, nh.x.petsc_vec)\n",
    "    nh.x.scatter_forward()\n",
    "\n",
    "    # Update solution at previous time step (n_n)\n",
    "    n_n.x.array[:] = nh.x.array\n",
    "\n",
    "    # Equation for Collagen\n",
    "    f_p = nh \n",
    "    a_p = (1 + dt) * ufl.inner(p, v_p) * ufl.dx + dt * ufl.inner(ufl.div(p*vel_n), v_p) * ufl.dx\n",
    "    L_p = ufl.inner((p_n + dt * f_p), v_p) * ufl.dx\n",
    "\n",
    "    bilinear_form = fem.form(a_p)\n",
    "    linear_form = fem.form(L_n)\n",
    "    A = assemble_matrix(bilinear_form, bcs=[bc_p])\n",
    "    A.assemble()\n",
    "    b = create_vector(linear_form)\n",
    "\n",
    "    # Update the right hand side reusing the initial vector\n",
    "    with b.localForm() as loc_b:\n",
    "        loc_b.set(0)\n",
    "    assemble_vector(b, linear_form)\n",
    "\n",
    "    # Apply Dirichlet boundary condition to the vector\n",
    "    apply_lifting(b, [bilinear_form], [[bc_p]])\n",
    "    b.ghostUpdate(addv=PETSc.InsertMode.ADD_VALUES, mode=PETSc.ScatterMode.REVERSE)\n",
    "    set_bc(b, [bc_p])\n",
    "\n",
    "    # Solve linear problem\n",
    "    solver.solve(b, ph.x.petsc_vec)\n",
    "    ph.x.scatter_forward()\n",
    "\n",
    "    # Update solution at previous time step (n_n)\n",
    "    p_n.x.array[:] = ph.x.array\n",
    "\n",
    "    # Solve deformation problem\n",
    "    traction = tau*nh*ph*ufl.Identity(len(x))\n",
    "    f_u = ufl.nabla_div(traction)\n",
    "    a_u = ufl.inner(sigma(u), epsilon(v_u)) * ufl.dx\n",
    "    L_u = ufl.inner(f_u, v_u) * ufl.dx + ufl.inner(T, v_u) * ds - ufl.inner(sigma_v(vel_n), epsilon(v_u)) * ufl.dx\n",
    "    problem = LinearProblem(a_u, L_u, bcs=[bc_u], petsc_options={\"ksp_type\": \"preonly\", \"pc_type\": \"lu\"})\n",
    "    uh = problem.solve()\n",
    "\n",
    "    # Compute velocity\n",
    "    if i % 10 == 0 and i != 0:\n",
    "        vel_n.x.array[:] = (uh.x.array[:] - u_n.x.array[:])/dt\n",
    "    # if i != 0:    \n",
    "    #     vel_n.x.array[:] = (uh.x.array[:] - u_n.x.array[:])/dt\n",
    "    \n",
    "    print(i, (uh.sub(0).x.array[100]- u_n.sub(0).x.array[100])/dt)\n",
    "    \n",
    "    # Update solution at previous time step (u_n)\n",
    "    u_n.x.array[:] = uh.x.array\n",
    "    # print(uh.sub(0).x.array[100])\n",
    "\n",
    "    # Write solution to file\n",
    "    nh.name = \"Cells\"\n",
    "    ph.name = \"Collagen\"\n",
    "    uh.name = \"Deformation\"\n",
    "    xdmf.write_function(nh, t)\n",
    "    xdmf.write_function(ph, t)\n",
    "    xdmf.write_function(uh, t)\n",
    "\n",
    "    # Write velocity\n",
    "    velocity_expr = fem.Expression(vel_n, V_vec.element.interpolation_points())\n",
    "    velocity = fem.Function(V_vec)\n",
    "    velocity.interpolate(velocity_expr)\n",
    "    velocity.name = \"velocity\"\n",
    "    xdmf.write_function(velocity, t)\n",
    "\n",
    "    # Compute and write stressn % k == 0\n",
    "    s = sigma(uh) - 1. / 3 * ufl.tr(sigma(uh)) * ufl.Identity(len(uh))\n",
    "    von_Mises = ufl.sqrt(3. / 2 * ufl.inner(s, s))\n",
    "    V_von_mises = fem.functionspace(domain, (\"DG\", 0))\n",
    "    stress_expr = fem.Expression(von_Mises, V_von_mises.element.interpolation_points())\n",
    "    stresses = fem.Function(V_von_mises)\n",
    "    stresses.interpolate(stress_expr)\n",
    "    stresses.name = \"stress\"\n",
    "    xdmf.write_function(stresses, t)\n",
    "xdmf.close()"
   ]
  }
 ],
 "metadata": {
  "kernelspec": {
   "display_name": "Python 3 (DOLFINx complex)",
   "language": "python",
   "name": "python3-complex"
  },
  "language_info": {
   "codemirror_mode": {
    "name": "ipython",
    "version": 3
   },
   "file_extension": ".py",
   "mimetype": "text/x-python",
   "name": "python",
   "nbconvert_exporter": "python",
   "pygments_lexer": "ipython3",
   "version": "3.12.3"
  }
 },
 "nbformat": 4,
 "nbformat_minor": 5
}
